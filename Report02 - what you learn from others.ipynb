{
 "cells": [
  {
   "cell_type": "markdown",
   "metadata": {},
   "source": [
    "In order to successfully complete this assignment you must:\n",
    "1. Follow the instruction below and connect how the introduced topics can connect to your research.\n",
    "2. The report template is made available after a Thurday class and due two days after (**10pm on Saturday**).\n",
    "3. The assignment must be submitted to the `reports` folders in the `cmse802-yourlastname` repository on or before the due date. Late assignment will receive <=80% of the grade."
   ]
  },
  {
   "cell_type": "markdown",
   "metadata": {},
   "source": [
    "---\n",
    "# <center><b>Research interests of your classmates</b></center>\n",
    "\n",
    "<center>by [YOUR NAME]</center>\n",
    "\n",
    "Based on the presentations of your classmates, the goals of this report are to:\n",
    "- Assess what you have learned from other students,\n",
    "- See how you research connect with others in the class."
   ]
  },
  {
   "cell_type": "markdown",
   "metadata": {},
   "source": [
    "---\n",
    "## ___Most relevant/interested presentations___\n",
    "\n",
    "&#9989; <font color=red>**QUESTION:**</font> What are the two or three presentations (presenter name and title) you hear about are of interests to you and/or relevant to your research? Answer this in 50 words or less."
   ]
  },
  {
   "cell_type": "markdown",
   "metadata": {},
   "source": [
    "<font size=+3>&#9998;</font> Erase the contents of this cell and replace it with your answer to the above question!"
   ]
  },
  {
   "cell_type": "markdown",
   "metadata": {},
   "source": [
    "---\n",
    "## ___Importance of what they do___\n",
    "\n",
    "&#9989; <font color=red>**QUESTION:**</font> For the presentations you are most interested in, explain:\n",
    "\n",
    "- What is(are) their core question(s)?\n",
    "- Why is it important to answer it(them)?\n",
    "\n",
    "Answer this in 250 words or less."
   ]
  },
  {
   "cell_type": "markdown",
   "metadata": {},
   "source": [
    "<font size=+3>&#9998;</font> Erase the contents of this cell and replace it with your answer to the above question!"
   ]
  },
  {
   "cell_type": "markdown",
   "metadata": {},
   "source": [
    "---\n",
    "## ___Connection to your research___\n",
    "\n",
    "&#9989; <font color=red>**QUESTION:**</font> How are their works relevant to yours? Explain this based on what you are doing/interested in and make connections.\n",
    "\n",
    "Answer this in 250 words or less."
   ]
  },
  {
   "cell_type": "markdown",
   "metadata": {},
   "source": [
    "<font size=+3>&#9998;</font> Erase the contents of this cell and replace it with your answer to the above question!"
   ]
  },
  {
   "cell_type": "markdown",
   "metadata": {},
   "source": [
    "---\n",
    "## ___References___\n",
    "\n",
    "&#9989;<font color=blue>**DO THIS:**</font> Include references you found helpful to support your answsers above. Include the links to the documents."
   ]
  },
  {
   "cell_type": "markdown",
   "metadata": {},
   "source": [
    "<font size=+3>&#9998;</font> Erase the contents of this cell and replace it with your answer to the above question!"
   ]
  },
  {
   "cell_type": "markdown",
   "metadata": {},
   "source": [
    "-----\n",
    "### Congratulations, you are done! Submit your report!"
   ]
  }
 ],
 "metadata": {
  "anaconda-cloud": {},
  "kernelspec": {
   "display_name": "Python 3 (ipykernel)",
   "language": "python",
   "name": "python3"
  },
  "language_info": {
   "codemirror_mode": {
    "name": "ipython",
    "version": 3
   },
   "file_extension": ".py",
   "mimetype": "text/x-python",
   "name": "python",
   "nbconvert_exporter": "python",
   "pygments_lexer": "ipython3",
   "version": "3.9.5"
  }
 },
 "nbformat": 4,
 "nbformat_minor": 4
}
