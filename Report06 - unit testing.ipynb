{
 "cells": [
  {
   "cell_type": "markdown",
   "metadata": {},
   "source": [
    "In order to successfully complete this assignment you must:\n",
    "1. Follow the instruction below and connect how the introduced topics can connect to your research.\n",
    "2. The report template is made available after a Thurday class and due two days after (**10pm on Saturday**).\n",
    "3. The assignment must be submitted to the `reports` folders in the `cmse802-yourlastname` repository on or before the due date. Late assignment will receive <=80% of the grade."
   ]
  },
  {
   "cell_type": "markdown",
   "metadata": {},
   "source": [
    "---\n",
    "# <center><b>Using unit testing in Nondestructive testing</b></center>\n",
    "\n",
    "<center>by [Obaid Elshafiey]</center>"
   ]
  },
  {
   "cell_type": "markdown",
   "metadata": {},
   "source": [
    "---\n"
   ]
  },
  {
   "cell_type": "markdown",
   "metadata": {},
   "source": [
    "---\n",
    "## ___What you have learend___"
   ]
  },
  {
   "cell_type": "markdown",
   "metadata": {},
   "source": [
    "<font size=+3>&#9998;</font> Unit testing plays a crucial role in the development of reliable signal processing software for nondestructive testing (NDT).\n",
    "in this class we learned 3 methods for unit testing, such as unittest module, and pytest. \n",
    "These modules assit by testing a function and insure that the output is what is expected "
   ]
  },
  {
   "cell_type": "markdown",
   "metadata": {},
   "source": [
    "---\n",
    "## ___How the approach can be applied___"
   ]
  },
  {
   "cell_type": "markdown",
   "metadata": {},
   "source": [
    "<font size=+3>&#9998;</font> \n",
    "When developing a signal processing for a Non-destructive testing. \n",
    "Signal processing algorithms are complex and can be prone to sublte errors that are diffcult to detect without rigourous testing. \n",
    "By testing developers can \n",
    "1. verify the correctnes of indicidual signal processing functions \n",
    "2. in sure changes in the model don't introduce unexpected side effects \n",
    "3. facilitate the development process by enabling more predictalbe and verifiable code outcomes \n",
    "\n",
    "Questions that unit testing can help answer ar: \n",
    "1. functionllity: does the algorithm correctly impolemtn the mathematicla operations as intended \n",
    "2. Boundary cases: how does the algorithm handle outlieres and exceptions \n",
    "\n",
    "The data would come from a combination of simulations and experiments \n",
    "Curretnly i am using Finite element analysis softwares ( such as ansys, and CST and Comsol ) for simulaiton, and software such as matlab and python for data processing \n",
    "\n"
   ]
  },
  {
   "cell_type": "markdown",
   "metadata": {},
   "source": [
    "---\n",
    "## ___References___\n",
    "\n",
    "Include references to papers you found that help illustrate your argument. I prefer references with links to papers.  "
   ]
  },
  {
   "cell_type": "markdown",
   "metadata": {},
   "source": [
    "-----\n",
    "### Congratulations, you are done! Submit your report!"
   ]
  }
 ],
 "metadata": {
  "anaconda-cloud": {},
  "kernelspec": {
   "display_name": "Python 3 (ipykernel)",
   "language": "python",
   "name": "python3"
  },
  "language_info": {
   "codemirror_mode": {
    "name": "ipython",
    "version": 3
   },
   "file_extension": ".py",
   "mimetype": "text/x-python",
   "name": "python",
   "nbconvert_exporter": "python",
   "pygments_lexer": "ipython3",
   "version": "3.9.5"
  }
 },
 "nbformat": 4,
 "nbformat_minor": 4
}
