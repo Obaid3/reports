{
 "cells": [
  {
   "cell_type": "markdown",
   "metadata": {},
   "source": [
    "In order to successfully complete this assignment you must:\n",
    "1. Follow the instruction below and connect how the introduced topics can connect to your research.\n",
    "2. The report template is made available after a Thurday class and due two days after (**10pm on Saturday**).\n",
    "3. The assignment must be submitted to the `reports` folders in the `cmse802-yourlastname` repository on or before the due date. Late assignment will receive <=80% of the grade."
   ]
  },
  {
   "cell_type": "markdown",
   "metadata": {},
   "source": [
    "---\n",
    "# <center><b>Using web scrapping in [YOUR RESEARCH AREA]</b></center>\n",
    "\n",
    "<center>by [YOUR NAME]</center>"
   ]
  },
  {
   "cell_type": "markdown",
   "metadata": {},
   "source": [
    "---\n",
    "## ___Instructions___ \n",
    "\n",
    "___Remove this cell when you are done___\n",
    "\n",
    "The report should contain two sections:\n",
    "\n",
    "**1. What you have learned**\n",
    "  - Summarize what you learned, the key take aways.\n",
    "  - In what areas about the topic you need to explore more on.\n",
    "\n",
    "**2. How the approach can be applied**: There are three possibilities for this section:\n",
    "  - You have already used the approach in your area of research. In this case, provide a summary on:\n",
    "     - The questions you address.\n",
    "     - The data you use,\n",
    "     - The software developed,\n",
    "     - If possible, a short example that could be demonstrated in class.\n",
    "  - You have not use this yet. In this case, provide a summary on:\n",
    "     - What specific questions you may address in your research domain with the approach.\n",
    "     - Where the data may come from.\n",
    "     - What software you need to develop to address the questions you posed.\n",
    "  - You do not see any way to use the approach. If you choose this, you need to:\n",
    "     - Summarize your areas of research.\n",
    "     - Make very convincing arguments why the approach cannot be applied to the research areas.  \n",
    "\n",
    "The third possibility is unlikely.  Use your imaginations!  The best idea come from combining expertise in seemingly unrelated topics. "
   ]
  },
  {
   "cell_type": "markdown",
   "metadata": {},
   "source": [
    "---\n",
    "## ___What you have learend___"
   ]
  },
  {
   "cell_type": "markdown",
   "metadata": {},
   "source": [
    "<font size=+3>&#9998;</font> Erase the contents of this cell and replace it with your answer to the above question!"
   ]
  },
  {
   "cell_type": "markdown",
   "metadata": {},
   "source": [
    "---\n",
    "## ___How the approach can be applied___"
   ]
  },
  {
   "cell_type": "markdown",
   "metadata": {},
   "source": [
    "<font size=+3>&#9998;</font> Erase the contents of this cell and replace it with your answer to the above question!"
   ]
  },
  {
   "cell_type": "markdown",
   "metadata": {},
   "source": [
    "---\n",
    "## ___References___\n",
    "\n",
    "Include references to papers you found that help illustrate your argument. I prefer references with links to papers.  "
   ]
  },
  {
   "cell_type": "markdown",
   "metadata": {},
   "source": [
    "-----\n",
    "### Congratulations, you are done! Submit your report!"
   ]
  }
 ],
 "metadata": {
  "anaconda-cloud": {},
  "kernelspec": {
   "display_name": "Python 3 (ipykernel)",
   "language": "python",
   "name": "python3"
  },
  "language_info": {
   "codemirror_mode": {
    "name": "ipython",
    "version": 3
   },
   "file_extension": ".py",
   "mimetype": "text/x-python",
   "name": "python",
   "nbconvert_exporter": "python",
   "pygments_lexer": "ipython3",
   "version": "3.9.5"
  }
 },
 "nbformat": 4,
 "nbformat_minor": 4
}
